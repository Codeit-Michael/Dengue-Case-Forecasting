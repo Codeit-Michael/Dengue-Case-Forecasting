{
 "cells": [
  {
   "cell_type": "markdown",
   "id": "28afd1a7",
   "metadata": {},
   "source": [
    "### Loading the Resources and Files needed"
   ]
  },
  {
   "cell_type": "code",
   "execution_count": null,
   "id": "a06ef515",
   "metadata": {},
   "outputs": [],
   "source": [
    "import pandas as pd"
   ]
  },
  {
   "cell_type": "code",
   "execution_count": 3,
   "id": "3dbf2e56",
   "metadata": {},
   "outputs": [
    {
     "data": {
      "application/vnd.microsoft.datawrangler.viewer.v0+json": {
       "columns": [
        {
         "name": "index",
         "rawType": "int64",
         "type": "integer"
        },
        {
         "name": "City/Municipality",
         "rawType": "object",
         "type": "string"
        },
        {
         "name": "Month",
         "rawType": "object",
         "type": "string"
        },
        {
         "name": "Year",
         "rawType": "int64",
         "type": "integer"
        },
        {
         "name": "Alive",
         "rawType": "object",
         "type": "string"
        },
        {
         "name": "Death",
         "rawType": "float64",
         "type": "float"
        }
       ],
       "ref": "bfe9fc14-c506-4582-942a-2efe3abd6670",
       "rows": [
        [
         "0",
         "ALFONSO",
         "January",
         "2014",
         "1",
         "1.0"
        ],
        [
         "1",
         "ALFONSO",
         "February",
         "2014",
         "1",
         "0.0"
        ],
        [
         "2",
         "ALFONSO",
         "March",
         "2014",
         "2",
         "0.0"
        ],
        [
         "3",
         "ALFONSO",
         "April",
         "2014",
         "1",
         "0.0"
        ],
        [
         "4",
         "ALFONSO",
         "May",
         "2014",
         "1",
         "0.0"
        ]
       ],
       "shape": {
        "columns": 5,
        "rows": 5
       }
      },
      "text/html": [
       "<div>\n",
       "<style scoped>\n",
       "    .dataframe tbody tr th:only-of-type {\n",
       "        vertical-align: middle;\n",
       "    }\n",
       "\n",
       "    .dataframe tbody tr th {\n",
       "        vertical-align: top;\n",
       "    }\n",
       "\n",
       "    .dataframe thead th {\n",
       "        text-align: right;\n",
       "    }\n",
       "</style>\n",
       "<table border=\"1\" class=\"dataframe\">\n",
       "  <thead>\n",
       "    <tr style=\"text-align: right;\">\n",
       "      <th></th>\n",
       "      <th>City/Municipality</th>\n",
       "      <th>Month</th>\n",
       "      <th>Year</th>\n",
       "      <th>Alive</th>\n",
       "      <th>Death</th>\n",
       "    </tr>\n",
       "  </thead>\n",
       "  <tbody>\n",
       "    <tr>\n",
       "      <th>0</th>\n",
       "      <td>ALFONSO</td>\n",
       "      <td>January</td>\n",
       "      <td>2014</td>\n",
       "      <td>1</td>\n",
       "      <td>1.0</td>\n",
       "    </tr>\n",
       "    <tr>\n",
       "      <th>1</th>\n",
       "      <td>ALFONSO</td>\n",
       "      <td>February</td>\n",
       "      <td>2014</td>\n",
       "      <td>1</td>\n",
       "      <td>0.0</td>\n",
       "    </tr>\n",
       "    <tr>\n",
       "      <th>2</th>\n",
       "      <td>ALFONSO</td>\n",
       "      <td>March</td>\n",
       "      <td>2014</td>\n",
       "      <td>2</td>\n",
       "      <td>0.0</td>\n",
       "    </tr>\n",
       "    <tr>\n",
       "      <th>3</th>\n",
       "      <td>ALFONSO</td>\n",
       "      <td>April</td>\n",
       "      <td>2014</td>\n",
       "      <td>1</td>\n",
       "      <td>0.0</td>\n",
       "    </tr>\n",
       "    <tr>\n",
       "      <th>4</th>\n",
       "      <td>ALFONSO</td>\n",
       "      <td>May</td>\n",
       "      <td>2014</td>\n",
       "      <td>1</td>\n",
       "      <td>0.0</td>\n",
       "    </tr>\n",
       "  </tbody>\n",
       "</table>\n",
       "</div>"
      ],
      "text/plain": [
       "  City/Municipality     Month  Year Alive  Death\n",
       "0           ALFONSO   January  2014     1    1.0\n",
       "1           ALFONSO  February  2014     1    0.0\n",
       "2           ALFONSO     March  2014     2    0.0\n",
       "3           ALFONSO     April  2014     1    0.0\n",
       "4           ALFONSO       May  2014     1    0.0"
      ]
     },
     "execution_count": 3,
     "metadata": {},
     "output_type": "execute_result"
    }
   ],
   "source": [
    "dengue_case = pd.read_csv('combined-data.csv')\n",
    "dengue_case.head()"
   ]
  },
  {
   "cell_type": "markdown",
   "id": "851cd0e4",
   "metadata": {},
   "source": [
    "### Checking Data Types of each Column"
   ]
  },
  {
   "cell_type": "code",
   "execution_count": 4,
   "id": "4f85fa0a",
   "metadata": {},
   "outputs": [
    {
     "data": {
      "application/vnd.microsoft.datawrangler.viewer.v0+json": {
       "columns": [
        {
         "name": "index",
         "rawType": "object",
         "type": "string"
        },
        {
         "name": "0",
         "rawType": "object",
         "type": "unknown"
        }
       ],
       "ref": "b541b153-1235-460d-8d87-c16884746e7d",
       "rows": [
        [
         "City/Municipality",
         "object"
        ],
        [
         "Month",
         "object"
        ],
        [
         "Year",
         "int64"
        ],
        [
         "Alive",
         "object"
        ],
        [
         "Death",
         "float64"
        ]
       ],
       "shape": {
        "columns": 1,
        "rows": 5
       }
      },
      "text/plain": [
       "City/Municipality     object\n",
       "Month                 object\n",
       "Year                   int64\n",
       "Alive                 object\n",
       "Death                float64\n",
       "dtype: object"
      ]
     },
     "execution_count": 4,
     "metadata": {},
     "output_type": "execute_result"
    }
   ],
   "source": [
    "dengue_case.dtypes"
   ]
  },
  {
   "cell_type": "markdown",
   "id": "b070770e",
   "metadata": {},
   "source": [
    "### Removing Whitespaces"
   ]
  },
  {
   "cell_type": "code",
   "execution_count": 5,
   "id": "af9bd854",
   "metadata": {},
   "outputs": [],
   "source": [
    "# remove whitespaces for \"City/Municipality\" column\n",
    "dengue_case['City/Municipality'] = dengue_case['City/Municipality'].map(str.strip)"
   ]
  },
  {
   "cell_type": "code",
   "execution_count": 6,
   "id": "37643866",
   "metadata": {},
   "outputs": [],
   "source": [
    "# remove whitespaces for 'Month' column\n",
    "dengue_case['Month'] = dengue_case['Month'].map(str.strip)"
   ]
  },
  {
   "cell_type": "markdown",
   "id": "258e13da",
   "metadata": {},
   "source": [
    "### Fixing 'City/Municipality' column's consistency"
   ]
  },
  {
   "cell_type": "code",
   "execution_count": null,
   "id": "262a778c",
   "metadata": {},
   "outputs": [
    {
     "data": {
      "application/vnd.microsoft.datawrangler.viewer.v0+json": {
       "columns": [
        {
         "name": "City/Municipality",
         "rawType": "object",
         "type": "string"
        },
        {
         "name": "count",
         "rawType": "int64",
         "type": "integer"
        }
       ],
       "ref": "11a835a6-1203-446c-8bc2-7611a5fa3221",
       "rows": [
        [
         "ALFONSO",
         "132"
        ],
        [
         "AMADEO",
         "132"
        ],
        [
         "BACOOR",
         "132"
        ],
        [
         "CARMONA",
         "132"
        ],
        [
         "CAVITE CITY",
         "132"
        ],
        [
         "DASMARINAS",
         "132"
        ],
        [
         "GENERAL EMILIO AGUINALDO",
         "132"
        ],
        [
         "IMUS",
         "132"
        ],
        [
         "GENERAL TRIAS",
         "132"
        ],
        [
         "KAWIT",
         "132"
        ],
        [
         "INDANG",
         "132"
        ],
        [
         "TERNATE",
         "132"
        ],
        [
         "TANZA",
         "132"
        ],
        [
         "MAGALLANES",
         "132"
        ],
        [
         "MARAGONDON",
         "132"
        ],
        [
         "MENDEZ",
         "132"
        ],
        [
         "NAIC",
         "132"
        ],
        [
         "SILANG",
         "132"
        ],
        [
         "ROSARIO",
         "132"
        ],
        [
         "TAGAYTAY CITY",
         "132"
        ],
        [
         "GEN. MARIANO ALVAREZ",
         "120"
        ],
        [
         "NOVELETA",
         "120"
        ],
        [
         "TRECE MARTIRES CITY",
         "108"
        ],
        [
         "GEN, MARIANO ALVAREZ",
         "12"
        ],
        [
         "NOVALETA",
         "12"
        ],
        [
         "TRECE MARITES CITY",
         "12"
        ],
        [
         "TRECE MARTIRES",
         "12"
        ]
       ],
       "shape": {
        "columns": 1,
        "rows": 27
       }
      },
      "text/plain": [
       "City/Municipality\n",
       "ALFONSO                     132\n",
       "AMADEO                      132\n",
       "BACOOR                      132\n",
       "CARMONA                     132\n",
       "CAVITE CITY                 132\n",
       "DASMARINAS                  132\n",
       "GENERAL EMILIO AGUINALDO    132\n",
       "IMUS                        132\n",
       "GENERAL TRIAS               132\n",
       "KAWIT                       132\n",
       "INDANG                      132\n",
       "TERNATE                     132\n",
       "TANZA                       132\n",
       "MAGALLANES                  132\n",
       "MARAGONDON                  132\n",
       "MENDEZ                      132\n",
       "NAIC                        132\n",
       "SILANG                      132\n",
       "ROSARIO                     132\n",
       "TAGAYTAY CITY               132\n",
       "GEN. MARIANO ALVAREZ        120\n",
       "NOVELETA                    120\n",
       "TRECE MARTIRES CITY         108\n",
       "GEN, MARIANO ALVAREZ         12\n",
       "NOVALETA                     12\n",
       "TRECE MARITES CITY           12\n",
       "TRECE MARTIRES               12\n",
       "Name: count, dtype: int64"
      ]
     },
     "execution_count": 7,
     "metadata": {},
     "output_type": "execute_result"
    }
   ],
   "source": [
    "# checking 'City/Municipality' consistency\n",
    "dengue_case['City/Municipality'].value_counts()"
   ]
  },
  {
   "cell_type": "code",
   "execution_count": 12,
   "id": "67c62810",
   "metadata": {},
   "outputs": [],
   "source": [
    "dengue_case1 = dengue_case.copy()"
   ]
  },
  {
   "cell_type": "code",
   "execution_count": 18,
   "id": "6812c813",
   "metadata": {},
   "outputs": [],
   "source": [
    "# replace inconsistent values in 'City/Municipality' column\n",
    "dengue_case1['City/Municipality'] = dengue_case1['City/Municipality'].replace({\n",
    "    'TRECE MARITES CITY': 'TRECE MARTIRES CITY',\n",
    "    'TRECE MARTIRES': 'TRECE MARTIRES CITY',\n",
    "    'NOVALETA': 'NOVELETA',\n",
    "    'GEN. MARIANO ALVAREZ': 'GENERAL MARIANO ALVAREZ',\n",
    "    'GEN, MARIANO ALVAREZ': 'GENERAL MARIANO ALVAREZ'\n",
    "})"
   ]
  },
  {
   "cell_type": "markdown",
   "id": "0a7e0ca8",
   "metadata": {},
   "source": [
    "### Filling Null Values"
   ]
  },
  {
   "cell_type": "code",
   "execution_count": 26,
   "id": "b980b1b4",
   "metadata": {},
   "outputs": [],
   "source": [
    "# filling empty cells for columns \"Alive\" and \"Death\"\n",
    "dengue_case1['Alive'] = dengue_case1['Alive'].fillna(0)\n",
    "dengue_case1['Death'] = dengue_case1['Death'].fillna(0)"
   ]
  },
  {
   "cell_type": "code",
   "execution_count": 66,
   "id": "3660017a",
   "metadata": {},
   "outputs": [],
   "source": [
    "dengue_case2 = dengue_case1.copy()"
   ]
  },
  {
   "cell_type": "markdown",
   "id": "c63d7e7b",
   "metadata": {},
   "source": [
    "### Converting 'Alive' column into a numerical column"
   ]
  },
  {
   "cell_type": "markdown",
   "id": "c9c39daf",
   "metadata": {},
   "source": [
    "- Locating string object/s from numerical column 'Alive'"
   ]
  },
  {
   "cell_type": "code",
   "execution_count": 67,
   "id": "af99ae3d",
   "metadata": {},
   "outputs": [],
   "source": [
    "# convert the 'Alive' column into a numeric column and leaving \n",
    "alive_col = pd.to_numeric(dengue_case2['Alive'], errors='coerce').isna()"
   ]
  },
  {
   "cell_type": "code",
   "execution_count": 68,
   "id": "be8fd735",
   "metadata": {},
   "outputs": [
    {
     "name": "stdout",
     "output_type": "stream",
     "text": [
      "1623\n"
     ]
    }
   ],
   "source": [
    "for idx, val in alive_col.items():\n",
    "    if val == True:\n",
    "        print(idx)"
   ]
  },
  {
   "cell_type": "code",
   "execution_count": 69,
   "id": "ae691a86",
   "metadata": {},
   "outputs": [
    {
     "data": {
      "text/plain": [
       "'O'"
      ]
     },
     "execution_count": 69,
     "metadata": {},
     "output_type": "execute_result"
    }
   ],
   "source": [
    "dengue_case2['Alive'].iloc[1623]"
   ]
  },
  {
   "cell_type": "code",
   "execution_count": 70,
   "id": "a854baca",
   "metadata": {},
   "outputs": [],
   "source": [
    "# replacing the faulty data (from 'o' to 0)\n",
    "dengue_case2['Alive'] = dengue_case2['Alive'].replace({\n",
    "    'O': 0\n",
    "})"
   ]
  },
  {
   "cell_type": "code",
   "execution_count": null,
   "id": "fd2c32bf",
   "metadata": {},
   "outputs": [],
   "source": [
    "# converting 'Alive' column into a nuemrical column\n",
    "dengue_case2['Alive'] = pd.to_numeric(dengue_case2['Alive'], errors='coerce')"
   ]
  },
  {
   "cell_type": "code",
   "execution_count": null,
   "id": "8d16f64f",
   "metadata": {},
   "outputs": [
    {
     "data": {
      "text/plain": [
       "np.int64(0)"
      ]
     },
     "execution_count": 75,
     "metadata": {},
     "output_type": "execute_result"
    }
   ],
   "source": [
    "# checking\n",
    "dengue_case2['Alive'].isna().sum()"
   ]
  },
  {
   "cell_type": "code",
   "execution_count": null,
   "id": "7af364a4",
   "metadata": {},
   "outputs": [
    {
     "data": {
      "application/vnd.microsoft.datawrangler.viewer.v0+json": {
       "columns": [
        {
         "name": "index",
         "rawType": "object",
         "type": "string"
        },
        {
         "name": "0",
         "rawType": "object",
         "type": "unknown"
        }
       ],
       "ref": "207e76b1-9985-4169-87f9-537bcd18b727",
       "rows": [
        [
         "City/Municipality",
         "object"
        ],
        [
         "Month",
         "object"
        ],
        [
         "Year",
         "int64"
        ],
        [
         "Alive",
         "int64"
        ],
        [
         "Death",
         "float64"
        ]
       ],
       "shape": {
        "columns": 1,
        "rows": 5
       }
      },
      "text/plain": [
       "City/Municipality     object\n",
       "Month                 object\n",
       "Year                   int64\n",
       "Alive                  int64\n",
       "Death                float64\n",
       "dtype: object"
      ]
     },
     "execution_count": 72,
     "metadata": {},
     "output_type": "execute_result"
    }
   ],
   "source": [
    "# checking\n",
    "dengue_case2.dtypes"
   ]
  }
 ],
 "metadata": {
  "kernelspec": {
   "display_name": "Python 3",
   "language": "python",
   "name": "python3"
  },
  "language_info": {
   "codemirror_mode": {
    "name": "ipython",
    "version": 3
   },
   "file_extension": ".py",
   "mimetype": "text/x-python",
   "name": "python",
   "nbconvert_exporter": "python",
   "pygments_lexer": "ipython3",
   "version": "3.11.9"
  }
 },
 "nbformat": 4,
 "nbformat_minor": 5
}
