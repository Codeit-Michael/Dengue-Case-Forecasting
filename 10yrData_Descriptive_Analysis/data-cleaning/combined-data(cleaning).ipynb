{
 "cells": [
  {
   "cell_type": "markdown",
   "id": "28afd1a7",
   "metadata": {},
   "source": [
    "### Loading the Resources and Files needed"
   ]
  },
  {
   "cell_type": "code",
   "execution_count": 1,
   "id": "a06ef515",
   "metadata": {},
   "outputs": [],
   "source": [
    "import pandas as pd"
   ]
  },
  {
   "cell_type": "code",
   "execution_count": 2,
   "id": "3dbf2e56",
   "metadata": {},
   "outputs": [
    {
     "data": {
      "application/vnd.microsoft.datawrangler.viewer.v0+json": {
       "columns": [
        {
         "name": "index",
         "rawType": "int64",
         "type": "integer"
        },
        {
         "name": "City/Municipality",
         "rawType": "object",
         "type": "string"
        },
        {
         "name": "Month",
         "rawType": "object",
         "type": "string"
        },
        {
         "name": "Year",
         "rawType": "int64",
         "type": "integer"
        },
        {
         "name": "Alive",
         "rawType": "int64",
         "type": "integer"
        },
        {
         "name": "Death",
         "rawType": "float64",
         "type": "float"
        }
       ],
       "ref": "1a62f5da-244b-4481-96ae-4f58fe2e59b3",
       "rows": [
        [
         "0",
         "ALFONSO",
         "January",
         "2014",
         "1",
         "1.0"
        ],
        [
         "1",
         "ALFONSO",
         "February",
         "2014",
         "1",
         "0.0"
        ],
        [
         "2",
         "ALFONSO",
         "March",
         "2014",
         "2",
         "0.0"
        ],
        [
         "3",
         "ALFONSO",
         "April",
         "2014",
         "1",
         "0.0"
        ],
        [
         "4",
         "ALFONSO",
         "May",
         "2014",
         "1",
         "0.0"
        ]
       ],
       "shape": {
        "columns": 5,
        "rows": 5
       }
      },
      "text/html": [
       "<div>\n",
       "<style scoped>\n",
       "    .dataframe tbody tr th:only-of-type {\n",
       "        vertical-align: middle;\n",
       "    }\n",
       "\n",
       "    .dataframe tbody tr th {\n",
       "        vertical-align: top;\n",
       "    }\n",
       "\n",
       "    .dataframe thead th {\n",
       "        text-align: right;\n",
       "    }\n",
       "</style>\n",
       "<table border=\"1\" class=\"dataframe\">\n",
       "  <thead>\n",
       "    <tr style=\"text-align: right;\">\n",
       "      <th></th>\n",
       "      <th>City/Municipality</th>\n",
       "      <th>Month</th>\n",
       "      <th>Year</th>\n",
       "      <th>Alive</th>\n",
       "      <th>Death</th>\n",
       "    </tr>\n",
       "  </thead>\n",
       "  <tbody>\n",
       "    <tr>\n",
       "      <th>0</th>\n",
       "      <td>ALFONSO</td>\n",
       "      <td>January</td>\n",
       "      <td>2014</td>\n",
       "      <td>1</td>\n",
       "      <td>1.0</td>\n",
       "    </tr>\n",
       "    <tr>\n",
       "      <th>1</th>\n",
       "      <td>ALFONSO</td>\n",
       "      <td>February</td>\n",
       "      <td>2014</td>\n",
       "      <td>1</td>\n",
       "      <td>0.0</td>\n",
       "    </tr>\n",
       "    <tr>\n",
       "      <th>2</th>\n",
       "      <td>ALFONSO</td>\n",
       "      <td>March</td>\n",
       "      <td>2014</td>\n",
       "      <td>2</td>\n",
       "      <td>0.0</td>\n",
       "    </tr>\n",
       "    <tr>\n",
       "      <th>3</th>\n",
       "      <td>ALFONSO</td>\n",
       "      <td>April</td>\n",
       "      <td>2014</td>\n",
       "      <td>1</td>\n",
       "      <td>0.0</td>\n",
       "    </tr>\n",
       "    <tr>\n",
       "      <th>4</th>\n",
       "      <td>ALFONSO</td>\n",
       "      <td>May</td>\n",
       "      <td>2014</td>\n",
       "      <td>1</td>\n",
       "      <td>0.0</td>\n",
       "    </tr>\n",
       "  </tbody>\n",
       "</table>\n",
       "</div>"
      ],
      "text/plain": [
       "  City/Municipality     Month  Year  Alive  Death\n",
       "0           ALFONSO   January  2014      1    1.0\n",
       "1           ALFONSO  February  2014      1    0.0\n",
       "2           ALFONSO     March  2014      2    0.0\n",
       "3           ALFONSO     April  2014      1    0.0\n",
       "4           ALFONSO       May  2014      1    0.0"
      ]
     },
     "execution_count": 2,
     "metadata": {},
     "output_type": "execute_result"
    }
   ],
   "source": [
    "dengue_case = pd.read_csv('combined-data.csv')\n",
    "dengue_case.head()"
   ]
  },
  {
   "cell_type": "markdown",
   "id": "851cd0e4",
   "metadata": {},
   "source": [
    "### Checking Data Types of each Column"
   ]
  },
  {
   "cell_type": "code",
   "execution_count": 3,
   "id": "4f85fa0a",
   "metadata": {},
   "outputs": [
    {
     "data": {
      "application/vnd.microsoft.datawrangler.viewer.v0+json": {
       "columns": [
        {
         "name": "index",
         "rawType": "object",
         "type": "string"
        },
        {
         "name": "0",
         "rawType": "object",
         "type": "unknown"
        }
       ],
       "ref": "5028d67a-4ae5-4a20-93ff-1c76cdb79f9a",
       "rows": [
        [
         "City/Municipality",
         "object"
        ],
        [
         "Month",
         "object"
        ],
        [
         "Year",
         "int64"
        ],
        [
         "Alive",
         "int64"
        ],
        [
         "Death",
         "float64"
        ]
       ],
       "shape": {
        "columns": 1,
        "rows": 5
       }
      },
      "text/plain": [
       "City/Municipality     object\n",
       "Month                 object\n",
       "Year                   int64\n",
       "Alive                  int64\n",
       "Death                float64\n",
       "dtype: object"
      ]
     },
     "execution_count": 3,
     "metadata": {},
     "output_type": "execute_result"
    }
   ],
   "source": [
    "dengue_case.dtypes"
   ]
  },
  {
   "cell_type": "markdown",
   "id": "b070770e",
   "metadata": {},
   "source": [
    "### Removing Whitespaces"
   ]
  },
  {
   "cell_type": "code",
   "execution_count": 4,
   "id": "af9bd854",
   "metadata": {},
   "outputs": [],
   "source": [
    "# remove whitespaces for \"City/Municipality\" column\n",
    "dengue_case['City/Municipality'] = dengue_case['City/Municipality'].map(str.strip)"
   ]
  },
  {
   "cell_type": "code",
   "execution_count": 5,
   "id": "37643866",
   "metadata": {},
   "outputs": [],
   "source": [
    "# remove whitespaces for 'Month' column\n",
    "dengue_case['Month'] = dengue_case['Month'].map(str.strip)"
   ]
  },
  {
   "cell_type": "markdown",
   "id": "258e13da",
   "metadata": {},
   "source": [
    "### Fixing 'City/Municipality' column's consistency"
   ]
  },
  {
   "cell_type": "code",
   "execution_count": 6,
   "id": "262a778c",
   "metadata": {},
   "outputs": [
    {
     "data": {
      "application/vnd.microsoft.datawrangler.viewer.v0+json": {
       "columns": [
        {
         "name": "City/Municipality",
         "rawType": "object",
         "type": "string"
        },
        {
         "name": "count",
         "rawType": "int64",
         "type": "integer"
        }
       ],
       "ref": "82d64aa4-60b8-4762-9ec4-6c0a07413bb5",
       "rows": [
        [
         "ALFONSO",
         "132"
        ],
        [
         "AMADEO",
         "132"
        ],
        [
         "BACOOR",
         "132"
        ],
        [
         "CARMONA",
         "132"
        ],
        [
         "CAVITE CITY",
         "132"
        ],
        [
         "DASMARINAS",
         "132"
        ],
        [
         "GENERAL MARIANO ALVAREZ",
         "132"
        ],
        [
         "GENERAL EMILIO AGUINALDO",
         "132"
        ],
        [
         "GENERAL TRIAS",
         "132"
        ],
        [
         "IMUS",
         "132"
        ],
        [
         "INDANG",
         "132"
        ],
        [
         "KAWIT",
         "132"
        ],
        [
         "MAGALLANES",
         "132"
        ],
        [
         "MARAGONDON",
         "132"
        ],
        [
         "MENDEZ",
         "132"
        ],
        [
         "NAIC",
         "132"
        ],
        [
         "NOVELETA",
         "132"
        ],
        [
         "ROSARIO",
         "132"
        ],
        [
         "SILANG",
         "132"
        ],
        [
         "TAGAYTAY CITY",
         "132"
        ],
        [
         "TANZA",
         "132"
        ],
        [
         "TERNATE",
         "132"
        ],
        [
         "TRECE MARTIRES CITY",
         "132"
        ]
       ],
       "shape": {
        "columns": 1,
        "rows": 23
       }
      },
      "text/plain": [
       "City/Municipality\n",
       "ALFONSO                     132\n",
       "AMADEO                      132\n",
       "BACOOR                      132\n",
       "CARMONA                     132\n",
       "CAVITE CITY                 132\n",
       "DASMARINAS                  132\n",
       "GENERAL MARIANO ALVAREZ     132\n",
       "GENERAL EMILIO AGUINALDO    132\n",
       "GENERAL TRIAS               132\n",
       "IMUS                        132\n",
       "INDANG                      132\n",
       "KAWIT                       132\n",
       "MAGALLANES                  132\n",
       "MARAGONDON                  132\n",
       "MENDEZ                      132\n",
       "NAIC                        132\n",
       "NOVELETA                    132\n",
       "ROSARIO                     132\n",
       "SILANG                      132\n",
       "TAGAYTAY CITY               132\n",
       "TANZA                       132\n",
       "TERNATE                     132\n",
       "TRECE MARTIRES CITY         132\n",
       "Name: count, dtype: int64"
      ]
     },
     "execution_count": 6,
     "metadata": {},
     "output_type": "execute_result"
    }
   ],
   "source": [
    "# checking 'City/Municipality' consistency\n",
    "dengue_case['City/Municipality'].value_counts()"
   ]
  },
  {
   "cell_type": "code",
   "execution_count": 7,
   "id": "67c62810",
   "metadata": {},
   "outputs": [],
   "source": [
    "dengue_case1 = dengue_case.copy()"
   ]
  },
  {
   "cell_type": "code",
   "execution_count": 8,
   "id": "6812c813",
   "metadata": {},
   "outputs": [],
   "source": [
    "# replace inconsistent values in 'City/Municipality' column\n",
    "dengue_case1['City/Municipality'] = dengue_case1['City/Municipality'].replace({\n",
    "    'TRECE MARITES CITY': 'TRECE MARTIRES CITY',\n",
    "    'TRECE MARTIRES': 'TRECE MARTIRES CITY',\n",
    "    'NOVALETA': 'NOVELETA',\n",
    "    'GEN. MARIANO ALVAREZ': 'GENERAL MARIANO ALVAREZ',\n",
    "    'GEN, MARIANO ALVAREZ': 'GENERAL MARIANO ALVAREZ'\n",
    "})"
   ]
  },
  {
   "cell_type": "markdown",
   "id": "0a7e0ca8",
   "metadata": {},
   "source": [
    "### Filling Null Values"
   ]
  },
  {
   "cell_type": "code",
   "execution_count": 9,
   "id": "b980b1b4",
   "metadata": {},
   "outputs": [],
   "source": [
    "# filling empty cells for columns \"Alive\" and \"Death\"\n",
    "dengue_case1['Alive'] = dengue_case1['Alive'].fillna(0)\n",
    "dengue_case1['Death'] = dengue_case1['Death'].fillna(0)"
   ]
  },
  {
   "cell_type": "code",
   "execution_count": 10,
   "id": "3660017a",
   "metadata": {},
   "outputs": [],
   "source": [
    "dengue_case2 = dengue_case1.copy()"
   ]
  },
  {
   "cell_type": "markdown",
   "id": "c63d7e7b",
   "metadata": {},
   "source": [
    "### Converting 'Alive' column into a numerical column"
   ]
  },
  {
   "cell_type": "markdown",
   "id": "c9c39daf",
   "metadata": {},
   "source": [
    "- Locating string object/s from numerical column 'Alive'"
   ]
  },
  {
   "cell_type": "code",
   "execution_count": 11,
   "id": "af99ae3d",
   "metadata": {},
   "outputs": [],
   "source": [
    "# convert the 'Alive' column into a numeric column and leaving \n",
    "alive_col = pd.to_numeric(dengue_case2['Alive'], errors='coerce').isna()"
   ]
  },
  {
   "cell_type": "code",
   "execution_count": 12,
   "id": "be8fd735",
   "metadata": {},
   "outputs": [],
   "source": [
    "for idx, val in alive_col.items():\n",
    "    if val == True:\n",
    "        print(idx)"
   ]
  },
  {
   "cell_type": "code",
   "execution_count": 13,
   "id": "ae691a86",
   "metadata": {},
   "outputs": [
    {
     "data": {
      "text/plain": [
       "np.int64(0)"
      ]
     },
     "execution_count": 13,
     "metadata": {},
     "output_type": "execute_result"
    }
   ],
   "source": [
    "dengue_case2['Alive'].iloc[1623]"
   ]
  },
  {
   "cell_type": "code",
   "execution_count": 14,
   "id": "a854baca",
   "metadata": {},
   "outputs": [],
   "source": [
    "# replacing the faulty data (from 'o' to 0)\n",
    "dengue_case2['Alive'] = dengue_case2['Alive'].replace({\n",
    "    'O': 0\n",
    "})"
   ]
  },
  {
   "cell_type": "code",
   "execution_count": 15,
   "id": "fd2c32bf",
   "metadata": {},
   "outputs": [],
   "source": [
    "# converting 'Alive' column into a nuemrical column\n",
    "dengue_case2['Alive'] = pd.to_numeric(dengue_case2['Alive'], errors='coerce')"
   ]
  },
  {
   "cell_type": "code",
   "execution_count": 16,
   "id": "8d16f64f",
   "metadata": {},
   "outputs": [
    {
     "data": {
      "text/plain": [
       "np.int64(0)"
      ]
     },
     "execution_count": 16,
     "metadata": {},
     "output_type": "execute_result"
    }
   ],
   "source": [
    "# checking\n",
    "dengue_case2['Alive'].isna().sum()"
   ]
  },
  {
   "cell_type": "code",
   "execution_count": 17,
   "id": "7af364a4",
   "metadata": {},
   "outputs": [
    {
     "data": {
      "application/vnd.microsoft.datawrangler.viewer.v0+json": {
       "columns": [
        {
         "name": "index",
         "rawType": "object",
         "type": "string"
        },
        {
         "name": "0",
         "rawType": "object",
         "type": "unknown"
        }
       ],
       "ref": "523f8f6e-f95c-4d17-b94a-df90e29e93dd",
       "rows": [
        [
         "City/Municipality",
         "object"
        ],
        [
         "Month",
         "object"
        ],
        [
         "Year",
         "int64"
        ],
        [
         "Alive",
         "int64"
        ],
        [
         "Death",
         "float64"
        ]
       ],
       "shape": {
        "columns": 1,
        "rows": 5
       }
      },
      "text/plain": [
       "City/Municipality     object\n",
       "Month                 object\n",
       "Year                   int64\n",
       "Alive                  int64\n",
       "Death                float64\n",
       "dtype: object"
      ]
     },
     "execution_count": 17,
     "metadata": {},
     "output_type": "execute_result"
    }
   ],
   "source": [
    "# checking\n",
    "dengue_case2.dtypes"
   ]
  },
  {
   "cell_type": "markdown",
   "id": "51589305",
   "metadata": {},
   "source": [
    "### Feature Engineering"
   ]
  },
  {
   "cell_type": "code",
   "execution_count": 21,
   "id": "dd7ea60d",
   "metadata": {},
   "outputs": [],
   "source": [
    "dengue_case2['Cases'] = dengue_case2['Alive'] + dengue_case2['Death']"
   ]
  },
  {
   "cell_type": "code",
   "execution_count": 22,
   "id": "f05288b6",
   "metadata": {},
   "outputs": [
    {
     "data": {
      "application/vnd.microsoft.datawrangler.viewer.v0+json": {
       "columns": [
        {
         "name": "index",
         "rawType": "int64",
         "type": "integer"
        },
        {
         "name": "City/Municipality",
         "rawType": "object",
         "type": "string"
        },
        {
         "name": "Month",
         "rawType": "object",
         "type": "string"
        },
        {
         "name": "Year",
         "rawType": "int64",
         "type": "integer"
        },
        {
         "name": "Alive",
         "rawType": "int64",
         "type": "integer"
        },
        {
         "name": "Death",
         "rawType": "float64",
         "type": "float"
        },
        {
         "name": "Cases",
         "rawType": "float64",
         "type": "float"
        }
       ],
       "ref": "2ac121be-a015-4758-baac-c2184e66349d",
       "rows": [
        [
         "0",
         "ALFONSO",
         "January",
         "2014",
         "1",
         "1.0",
         "2.0"
        ],
        [
         "1",
         "ALFONSO",
         "February",
         "2014",
         "1",
         "0.0",
         "1.0"
        ],
        [
         "2",
         "ALFONSO",
         "March",
         "2014",
         "2",
         "0.0",
         "2.0"
        ],
        [
         "3",
         "ALFONSO",
         "April",
         "2014",
         "1",
         "0.0",
         "1.0"
        ],
        [
         "4",
         "ALFONSO",
         "May",
         "2014",
         "1",
         "0.0",
         "1.0"
        ],
        [
         "5",
         "ALFONSO",
         "June",
         "2014",
         "1",
         "0.0",
         "1.0"
        ],
        [
         "6",
         "ALFONSO",
         "July",
         "2014",
         "7",
         "0.0",
         "7.0"
        ],
        [
         "7",
         "ALFONSO",
         "August",
         "2014",
         "8",
         "0.0",
         "8.0"
        ],
        [
         "8",
         "ALFONSO",
         "September",
         "2014",
         "6",
         "0.0",
         "6.0"
        ],
        [
         "9",
         "ALFONSO",
         "October",
         "2014",
         "3",
         "0.0",
         "3.0"
        ],
        [
         "10",
         "ALFONSO",
         "November",
         "2014",
         "3",
         "0.0",
         "3.0"
        ],
        [
         "11",
         "ALFONSO",
         "December",
         "2014",
         "2",
         "0.0",
         "2.0"
        ],
        [
         "12",
         "ALFONSO",
         "January",
         "2015",
         "6",
         "0.0",
         "6.0"
        ],
        [
         "13",
         "ALFONSO",
         "February",
         "2015",
         "5",
         "0.0",
         "5.0"
        ],
        [
         "14",
         "ALFONSO",
         "March",
         "2015",
         "5",
         "0.0",
         "5.0"
        ],
        [
         "15",
         "ALFONSO",
         "April",
         "2015",
         "5",
         "0.0",
         "5.0"
        ],
        [
         "16",
         "ALFONSO",
         "May",
         "2015",
         "1",
         "0.0",
         "1.0"
        ],
        [
         "17",
         "ALFONSO",
         "June",
         "2015",
         "10",
         "0.0",
         "10.0"
        ],
        [
         "18",
         "ALFONSO",
         "July",
         "2015",
         "17",
         "0.0",
         "17.0"
        ],
        [
         "19",
         "ALFONSO",
         "August",
         "2015",
         "22",
         "0.0",
         "22.0"
        ],
        [
         "20",
         "ALFONSO",
         "September",
         "2015",
         "27",
         "0.0",
         "27.0"
        ],
        [
         "21",
         "ALFONSO",
         "October",
         "2015",
         "18",
         "0.0",
         "18.0"
        ],
        [
         "22",
         "ALFONSO",
         "November",
         "2015",
         "13",
         "0.0",
         "13.0"
        ],
        [
         "23",
         "ALFONSO",
         "December",
         "2015",
         "5",
         "0.0",
         "5.0"
        ],
        [
         "24",
         "ALFONSO",
         "January",
         "2016",
         "6",
         "0.0",
         "6.0"
        ],
        [
         "25",
         "ALFONSO",
         "February",
         "2016",
         "6",
         "0.0",
         "6.0"
        ],
        [
         "26",
         "ALFONSO",
         "March",
         "2016",
         "3",
         "0.0",
         "3.0"
        ],
        [
         "27",
         "ALFONSO",
         "April",
         "2016",
         "5",
         "0.0",
         "5.0"
        ],
        [
         "28",
         "ALFONSO",
         "May",
         "2016",
         "5",
         "0.0",
         "5.0"
        ],
        [
         "29",
         "ALFONSO",
         "June",
         "2016",
         "11",
         "2.0",
         "13.0"
        ],
        [
         "30",
         "ALFONSO",
         "July",
         "2016",
         "17",
         "0.0",
         "17.0"
        ],
        [
         "31",
         "ALFONSO",
         "August",
         "2016",
         "10",
         "0.0",
         "10.0"
        ],
        [
         "32",
         "ALFONSO",
         "September",
         "2016",
         "10",
         "0.0",
         "10.0"
        ],
        [
         "33",
         "ALFONSO",
         "October",
         "2016",
         "4",
         "0.0",
         "4.0"
        ],
        [
         "34",
         "ALFONSO",
         "November",
         "2016",
         "2",
         "0.0",
         "2.0"
        ],
        [
         "35",
         "ALFONSO",
         "December",
         "2016",
         "2",
         "0.0",
         "2.0"
        ],
        [
         "36",
         "ALFONSO",
         "January",
         "2017",
         "4",
         "0.0",
         "4.0"
        ],
        [
         "37",
         "ALFONSO",
         "February",
         "2017",
         "0",
         "0.0",
         "0.0"
        ],
        [
         "38",
         "ALFONSO",
         "March",
         "2017",
         "1",
         "0.0",
         "1.0"
        ],
        [
         "39",
         "ALFONSO",
         "April",
         "2017",
         "2",
         "0.0",
         "2.0"
        ],
        [
         "40",
         "ALFONSO",
         "May",
         "2017",
         "0",
         "0.0",
         "0.0"
        ],
        [
         "41",
         "ALFONSO",
         "June",
         "2017",
         "1",
         "0.0",
         "1.0"
        ],
        [
         "42",
         "ALFONSO",
         "July",
         "2017",
         "8",
         "0.0",
         "8.0"
        ],
        [
         "43",
         "ALFONSO",
         "August",
         "2017",
         "9",
         "0.0",
         "9.0"
        ],
        [
         "44",
         "ALFONSO",
         "September",
         "2017",
         "12",
         "0.0",
         "12.0"
        ],
        [
         "45",
         "ALFONSO",
         "October",
         "2017",
         "4",
         "0.0",
         "4.0"
        ],
        [
         "46",
         "ALFONSO",
         "November",
         "2017",
         "5",
         "0.0",
         "5.0"
        ],
        [
         "47",
         "ALFONSO",
         "December",
         "2017",
         "4",
         "0.0",
         "4.0"
        ],
        [
         "48",
         "ALFONSO",
         "January",
         "2018",
         "6",
         "1.0",
         "7.0"
        ],
        [
         "49",
         "ALFONSO",
         "February",
         "2018",
         "5",
         "0.0",
         "5.0"
        ]
       ],
       "shape": {
        "columns": 6,
        "rows": 3036
       }
      },
      "text/html": [
       "<div>\n",
       "<style scoped>\n",
       "    .dataframe tbody tr th:only-of-type {\n",
       "        vertical-align: middle;\n",
       "    }\n",
       "\n",
       "    .dataframe tbody tr th {\n",
       "        vertical-align: top;\n",
       "    }\n",
       "\n",
       "    .dataframe thead th {\n",
       "        text-align: right;\n",
       "    }\n",
       "</style>\n",
       "<table border=\"1\" class=\"dataframe\">\n",
       "  <thead>\n",
       "    <tr style=\"text-align: right;\">\n",
       "      <th></th>\n",
       "      <th>City/Municipality</th>\n",
       "      <th>Month</th>\n",
       "      <th>Year</th>\n",
       "      <th>Alive</th>\n",
       "      <th>Death</th>\n",
       "      <th>Cases</th>\n",
       "    </tr>\n",
       "  </thead>\n",
       "  <tbody>\n",
       "    <tr>\n",
       "      <th>0</th>\n",
       "      <td>ALFONSO</td>\n",
       "      <td>January</td>\n",
       "      <td>2014</td>\n",
       "      <td>1</td>\n",
       "      <td>1.0</td>\n",
       "      <td>2.0</td>\n",
       "    </tr>\n",
       "    <tr>\n",
       "      <th>1</th>\n",
       "      <td>ALFONSO</td>\n",
       "      <td>February</td>\n",
       "      <td>2014</td>\n",
       "      <td>1</td>\n",
       "      <td>0.0</td>\n",
       "      <td>1.0</td>\n",
       "    </tr>\n",
       "    <tr>\n",
       "      <th>2</th>\n",
       "      <td>ALFONSO</td>\n",
       "      <td>March</td>\n",
       "      <td>2014</td>\n",
       "      <td>2</td>\n",
       "      <td>0.0</td>\n",
       "      <td>2.0</td>\n",
       "    </tr>\n",
       "    <tr>\n",
       "      <th>3</th>\n",
       "      <td>ALFONSO</td>\n",
       "      <td>April</td>\n",
       "      <td>2014</td>\n",
       "      <td>1</td>\n",
       "      <td>0.0</td>\n",
       "      <td>1.0</td>\n",
       "    </tr>\n",
       "    <tr>\n",
       "      <th>4</th>\n",
       "      <td>ALFONSO</td>\n",
       "      <td>May</td>\n",
       "      <td>2014</td>\n",
       "      <td>1</td>\n",
       "      <td>0.0</td>\n",
       "      <td>1.0</td>\n",
       "    </tr>\n",
       "    <tr>\n",
       "      <th>...</th>\n",
       "      <td>...</td>\n",
       "      <td>...</td>\n",
       "      <td>...</td>\n",
       "      <td>...</td>\n",
       "      <td>...</td>\n",
       "      <td>...</td>\n",
       "    </tr>\n",
       "    <tr>\n",
       "      <th>3031</th>\n",
       "      <td>TRECE MARTIRES CITY</td>\n",
       "      <td>August</td>\n",
       "      <td>2024</td>\n",
       "      <td>204</td>\n",
       "      <td>2.0</td>\n",
       "      <td>206.0</td>\n",
       "    </tr>\n",
       "    <tr>\n",
       "      <th>3032</th>\n",
       "      <td>TRECE MARTIRES CITY</td>\n",
       "      <td>September</td>\n",
       "      <td>2024</td>\n",
       "      <td>215</td>\n",
       "      <td>1.0</td>\n",
       "      <td>216.0</td>\n",
       "    </tr>\n",
       "    <tr>\n",
       "      <th>3033</th>\n",
       "      <td>TRECE MARTIRES CITY</td>\n",
       "      <td>October</td>\n",
       "      <td>2024</td>\n",
       "      <td>216</td>\n",
       "      <td>1.0</td>\n",
       "      <td>217.0</td>\n",
       "    </tr>\n",
       "    <tr>\n",
       "      <th>3034</th>\n",
       "      <td>TRECE MARTIRES CITY</td>\n",
       "      <td>November</td>\n",
       "      <td>2024</td>\n",
       "      <td>142</td>\n",
       "      <td>0.0</td>\n",
       "      <td>142.0</td>\n",
       "    </tr>\n",
       "    <tr>\n",
       "      <th>3035</th>\n",
       "      <td>TRECE MARTIRES CITY</td>\n",
       "      <td>December</td>\n",
       "      <td>2024</td>\n",
       "      <td>121</td>\n",
       "      <td>0.0</td>\n",
       "      <td>121.0</td>\n",
       "    </tr>\n",
       "  </tbody>\n",
       "</table>\n",
       "<p>3036 rows × 6 columns</p>\n",
       "</div>"
      ],
      "text/plain": [
       "        City/Municipality      Month  Year  Alive  Death  Cases\n",
       "0                 ALFONSO    January  2014      1    1.0    2.0\n",
       "1                 ALFONSO   February  2014      1    0.0    1.0\n",
       "2                 ALFONSO      March  2014      2    0.0    2.0\n",
       "3                 ALFONSO      April  2014      1    0.0    1.0\n",
       "4                 ALFONSO        May  2014      1    0.0    1.0\n",
       "...                   ...        ...   ...    ...    ...    ...\n",
       "3031  TRECE MARTIRES CITY     August  2024    204    2.0  206.0\n",
       "3032  TRECE MARTIRES CITY  September  2024    215    1.0  216.0\n",
       "3033  TRECE MARTIRES CITY    October  2024    216    1.0  217.0\n",
       "3034  TRECE MARTIRES CITY   November  2024    142    0.0  142.0\n",
       "3035  TRECE MARTIRES CITY   December  2024    121    0.0  121.0\n",
       "\n",
       "[3036 rows x 6 columns]"
      ]
     },
     "execution_count": 22,
     "metadata": {},
     "output_type": "execute_result"
    }
   ],
   "source": [
    "dengue_case2"
   ]
  },
  {
   "cell_type": "code",
   "execution_count": 23,
   "id": "d609d6a3",
   "metadata": {},
   "outputs": [],
   "source": [
    "# update our .csv file\n",
    "dengue_case2.to_csv('combined-data.csv', mode='w', index=False)"
   ]
  }
 ],
 "metadata": {
  "kernelspec": {
   "display_name": "Python 3",
   "language": "python",
   "name": "python3"
  },
  "language_info": {
   "codemirror_mode": {
    "name": "ipython",
    "version": 3
   },
   "file_extension": ".py",
   "mimetype": "text/x-python",
   "name": "python",
   "nbconvert_exporter": "python",
   "pygments_lexer": "ipython3",
   "version": "3.11.9"
  }
 },
 "nbformat": 4,
 "nbformat_minor": 5
}
