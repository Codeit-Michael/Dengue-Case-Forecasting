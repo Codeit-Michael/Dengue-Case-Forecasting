{
 "cells": [
  {
   "cell_type": "markdown",
   "id": "804dea45",
   "metadata": {},
   "source": [
    "# 11 Year Dengue cases Exploratory Analysis"
   ]
  },
  {
   "cell_type": "markdown",
   "id": "721c900f",
   "metadata": {},
   "source": [
    "## Analysis Parts\n",
    "- **Overall dengue case trend** - bar graph/line graph (Year x Cases)\n",
    "- **Annual dengue case pattern** - bar graph/line graph (Month x Cases)\n",
    "- **Time series each month (for every city/municipality)** - to measure if cases are going up or down for each municipality/city (linear time series plot)\n",
    "- **Dengue case hotspot** - to measure which place has the most and least cases (heatmap)\n",
    "- **Human Impact** - deaths for cases/case fatality ratio, or CFR (stacked bar graph)\n",
    "\n",
    "## Key Metrics\n",
    "- Total Cases\n",
    "- Peak Month Index\n",
    "- Top affected City/ies\n",
    "- Survival Rate\n",
    "- Case Fatality Ratio"
   ]
  },
  {
   "cell_type": "code",
   "execution_count": null,
   "id": "24a0471c",
   "metadata": {},
   "outputs": [],
   "source": [
    "# libraries to be used\n",
    "import pandas as pd\n",
    "import matplotlib.pyplot as plt\n",
    "import seaborn as sns\n",
    "\n",
    "%matplotlib inline\n",
    "pd.plotting.register_matplotlib_converters()\n",
    "sns.set_style(style='darkgrid')"
   ]
  },
  {
   "cell_type": "code",
   "execution_count": null,
   "id": "a6b2f5d3",
   "metadata": {},
   "outputs": [
    {
     "data": {
      "application/vnd.microsoft.datawrangler.viewer.v0+json": {
       "columns": [
        {
         "name": "index",
         "rawType": "int64",
         "type": "integer"
        },
        {
         "name": "City/Municipality",
         "rawType": "object",
         "type": "string"
        },
        {
         "name": "Month",
         "rawType": "object",
         "type": "string"
        },
        {
         "name": "Year",
         "rawType": "int64",
         "type": "integer"
        },
        {
         "name": "Alive",
         "rawType": "int64",
         "type": "integer"
        },
        {
         "name": "Death",
         "rawType": "float64",
         "type": "float"
        },
        {
         "name": "Cases",
         "rawType": "float64",
         "type": "float"
        }
       ],
       "ref": "747a5538-7bda-48d6-b147-bbfc5ae487c4",
       "rows": [
        [
         "0",
         "ALFONSO",
         "January",
         "2014",
         "1",
         "1.0",
         "2.0"
        ],
        [
         "1",
         "ALFONSO",
         "February",
         "2014",
         "1",
         "0.0",
         "1.0"
        ],
        [
         "2",
         "ALFONSO",
         "March",
         "2014",
         "2",
         "0.0",
         "2.0"
        ],
        [
         "3",
         "ALFONSO",
         "April",
         "2014",
         "1",
         "0.0",
         "1.0"
        ],
        [
         "4",
         "ALFONSO",
         "May",
         "2014",
         "1",
         "0.0",
         "1.0"
        ]
       ],
       "shape": {
        "columns": 6,
        "rows": 5
       }
      },
      "text/html": [
       "<div>\n",
       "<style scoped>\n",
       "    .dataframe tbody tr th:only-of-type {\n",
       "        vertical-align: middle;\n",
       "    }\n",
       "\n",
       "    .dataframe tbody tr th {\n",
       "        vertical-align: top;\n",
       "    }\n",
       "\n",
       "    .dataframe thead th {\n",
       "        text-align: right;\n",
       "    }\n",
       "</style>\n",
       "<table border=\"1\" class=\"dataframe\">\n",
       "  <thead>\n",
       "    <tr style=\"text-align: right;\">\n",
       "      <th></th>\n",
       "      <th>City/Municipality</th>\n",
       "      <th>Month</th>\n",
       "      <th>Year</th>\n",
       "      <th>Alive</th>\n",
       "      <th>Death</th>\n",
       "      <th>Cases</th>\n",
       "    </tr>\n",
       "  </thead>\n",
       "  <tbody>\n",
       "    <tr>\n",
       "      <th>0</th>\n",
       "      <td>ALFONSO</td>\n",
       "      <td>January</td>\n",
       "      <td>2014</td>\n",
       "      <td>1</td>\n",
       "      <td>1.0</td>\n",
       "      <td>2.0</td>\n",
       "    </tr>\n",
       "    <tr>\n",
       "      <th>1</th>\n",
       "      <td>ALFONSO</td>\n",
       "      <td>February</td>\n",
       "      <td>2014</td>\n",
       "      <td>1</td>\n",
       "      <td>0.0</td>\n",
       "      <td>1.0</td>\n",
       "    </tr>\n",
       "    <tr>\n",
       "      <th>2</th>\n",
       "      <td>ALFONSO</td>\n",
       "      <td>March</td>\n",
       "      <td>2014</td>\n",
       "      <td>2</td>\n",
       "      <td>0.0</td>\n",
       "      <td>2.0</td>\n",
       "    </tr>\n",
       "    <tr>\n",
       "      <th>3</th>\n",
       "      <td>ALFONSO</td>\n",
       "      <td>April</td>\n",
       "      <td>2014</td>\n",
       "      <td>1</td>\n",
       "      <td>0.0</td>\n",
       "      <td>1.0</td>\n",
       "    </tr>\n",
       "    <tr>\n",
       "      <th>4</th>\n",
       "      <td>ALFONSO</td>\n",
       "      <td>May</td>\n",
       "      <td>2014</td>\n",
       "      <td>1</td>\n",
       "      <td>0.0</td>\n",
       "      <td>1.0</td>\n",
       "    </tr>\n",
       "  </tbody>\n",
       "</table>\n",
       "</div>"
      ],
      "text/plain": [
       "  City/Municipality     Month  Year  Alive  Death  Cases\n",
       "0           ALFONSO   January  2014      1    1.0    2.0\n",
       "1           ALFONSO  February  2014      1    0.0    1.0\n",
       "2           ALFONSO     March  2014      2    0.0    2.0\n",
       "3           ALFONSO     April  2014      1    0.0    1.0\n",
       "4           ALFONSO       May  2014      1    0.0    1.0"
      ]
     },
     "execution_count": 8,
     "metadata": {},
     "output_type": "execute_result"
    }
   ],
   "source": [
    "# importing the file\n",
    "dengue_case = pd.read_csv('../data-cleaning/combined-data.csv')\n",
    "dengue_case.head()"
   ]
  },
  {
   "cell_type": "markdown",
   "id": "2c579d85",
   "metadata": {},
   "source": [
    "### Overall Dengue case trend"
   ]
  },
  {
   "cell_type": "code",
   "execution_count": null,
   "id": "fc2dab24",
   "metadata": {},
   "outputs": [],
   "source": []
  }
 ],
 "metadata": {
  "kernelspec": {
   "display_name": "Python 3",
   "language": "python",
   "name": "python3"
  },
  "language_info": {
   "codemirror_mode": {
    "name": "ipython",
    "version": 3
   },
   "file_extension": ".py",
   "mimetype": "text/x-python",
   "name": "python",
   "nbconvert_exporter": "python",
   "pygments_lexer": "ipython3",
   "version": "3.11.9"
  }
 },
 "nbformat": 4,
 "nbformat_minor": 5
}
