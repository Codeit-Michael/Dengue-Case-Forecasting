{
 "cells": [
  {
   "cell_type": "code",
   "execution_count": 1,
   "id": "3f34bcd7",
   "metadata": {},
   "outputs": [],
   "source": [
    "import numpy as np\n",
    "import pandas as pd\n",
    "from scipy.optimize import curve_fit\n",
    "import matplotlib.pyplot as plt"
   ]
  },
  {
   "cell_type": "code",
   "execution_count": 2,
   "id": "33bb5f46",
   "metadata": {},
   "outputs": [],
   "source": [
    "dengue_cases = pd.read_csv('cleaned_dengue_data.csv')\n",
    "larvae_recs = pd.read_csv('larvae-recs.csv')"
   ]
  },
  {
   "cell_type": "code",
   "execution_count": 3,
   "id": "5d011c9e",
   "metadata": {},
   "outputs": [],
   "source": [
    "cases_x_larvae = dengue_cases.query('Year == 2023').copy()"
   ]
  },
  {
   "cell_type": "code",
   "execution_count": 4,
   "id": "2755baea",
   "metadata": {},
   "outputs": [],
   "source": [
    "total = cases_x_larvae['New_cases'].sum()"
   ]
  },
  {
   "cell_type": "code",
   "execution_count": 5,
   "id": "c876098e",
   "metadata": {},
   "outputs": [],
   "source": [
    "case_percent = cases_x_larvae['New_cases'] / total"
   ]
  },
  {
   "cell_type": "code",
   "execution_count": 6,
   "id": "ddf2948b",
   "metadata": {},
   "outputs": [
    {
     "name": "stdout",
     "output_type": "stream",
     "text": [
      "108    0.104589\n",
      "109    0.056564\n",
      "110    0.047385\n",
      "111    0.047172\n",
      "112    0.040555\n",
      "113    0.077268\n",
      "114    0.067876\n",
      "115    0.068090\n",
      "116    0.092850\n",
      "117    0.154536\n",
      "118    0.146852\n",
      "119    0.096265\n",
      "Name: New_cases, dtype: float64\n"
     ]
    }
   ],
   "source": [
    "print(case_percent)"
   ]
  },
  {
   "cell_type": "code",
   "execution_count": 7,
   "id": "bf640e8d",
   "metadata": {},
   "outputs": [],
   "source": [
    "larvae_recs_sum = larvae_recs['No. of Larvae Collected'].sum()"
   ]
  },
  {
   "cell_type": "code",
   "execution_count": 8,
   "id": "2a6ae75d",
   "metadata": {},
   "outputs": [],
   "source": [
    "cases_x_larvae['case_percent'] = case_percent"
   ]
  },
  {
   "cell_type": "code",
   "execution_count": 9,
   "id": "2b9ae2b7",
   "metadata": {},
   "outputs": [],
   "source": [
    "cases_x_larvae['Mosquito_Population'] = cases_x_larvae['case_percent'] * larvae_recs_sum"
   ]
  },
  {
   "cell_type": "code",
   "execution_count": 10,
   "id": "f0e29282",
   "metadata": {},
   "outputs": [],
   "source": [
    "cases_x_larvae.drop('case_percent', axis=1, inplace=True)"
   ]
  },
  {
   "cell_type": "code",
   "execution_count": 11,
   "id": "07947afa",
   "metadata": {},
   "outputs": [],
   "source": [
    "cases_x_larvae['Mosquito_Population'] = cases_x_larvae['Mosquito_Population'].round()"
   ]
  },
  {
   "cell_type": "code",
   "execution_count": 14,
   "id": "10a66be1",
   "metadata": {},
   "outputs": [],
   "source": [
    "cases_x_larvae['Total_Mosquito_Population'] = cases_x_larvae['Mosquito_Population'].cumsum()"
   ]
  },
  {
   "cell_type": "code",
   "execution_count": 15,
   "id": "586efed5",
   "metadata": {},
   "outputs": [
    {
     "data": {
      "application/vnd.microsoft.datawrangler.viewer.v0+json": {
       "columns": [
        {
         "name": "index",
         "rawType": "int64",
         "type": "integer"
        },
        {
         "name": "Year",
         "rawType": "int64",
         "type": "integer"
        },
        {
         "name": "Month_Num",
         "rawType": "int64",
         "type": "integer"
        },
        {
         "name": "New_cases",
         "rawType": "float64",
         "type": "float"
        },
        {
         "name": "Total_cases",
         "rawType": "float64",
         "type": "float"
        },
        {
         "name": "RAINFALL",
         "rawType": "float64",
         "type": "float"
        },
        {
         "name": "TMAX",
         "rawType": "float64",
         "type": "float"
        },
        {
         "name": "TMIN",
         "rawType": "float64",
         "type": "float"
        },
        {
         "name": "TMEAN",
         "rawType": "float64",
         "type": "float"
        },
        {
         "name": "RH",
         "rawType": "int64",
         "type": "integer"
        },
        {
         "name": "Population_Density",
         "rawType": "float64",
         "type": "float"
        },
        {
         "name": "Total_Population",
         "rawType": "float64",
         "type": "float"
        },
        {
         "name": "Urban_Population",
         "rawType": "float64",
         "type": "float"
        },
        {
         "name": "Urbanization_Rate",
         "rawType": "float64",
         "type": "float"
        },
        {
         "name": "Mosquito_Population",
         "rawType": "float64",
         "type": "float"
        },
        {
         "name": "Total_Mosquito_Population",
         "rawType": "float64",
         "type": "float"
        }
       ],
       "ref": "f3a4f8f8-5026-4469-9a96-e98dd5cd8006",
       "rows": [
        [
         "108",
         "2023",
         "1",
         "490.0",
         "69769.0",
         "72.6",
         "29.7",
         "24.6",
         "27.2",
         "77",
         "3158.0",
         "4507288.0",
         "2566916.0",
         "73.36",
         "2351.0",
         "2351.0"
        ],
        [
         "109",
         "2023",
         "2",
         "265.0",
         "70034.0",
         "12.4",
         "31.0",
         "24.9",
         "27.9",
         "73",
         "3158.0",
         "4507288.0",
         "2566916.0",
         "73.36",
         "1271.0",
         "3622.0"
        ],
        [
         "110",
         "2023",
         "3",
         "222.0",
         "70256.0",
         "0.4",
         "32.3",
         "25.1",
         "28.7",
         "68",
         "3158.0",
         "4507288.0",
         "2566916.0",
         "73.36",
         "1065.0",
         "4687.0"
        ],
        [
         "111",
         "2023",
         "4",
         "221.0",
         "70477.0",
         "68.7",
         "33.5",
         "26.7",
         "30.1",
         "69",
         "3158.0",
         "4507288.0",
         "2566916.0",
         "73.36",
         "1060.0",
         "5747.0"
        ],
        [
         "112",
         "2023",
         "5",
         "190.0",
         "70667.0",
         "134.6",
         "34.4",
         "27.7",
         "31.0",
         "72",
         "3158.0",
         "4507288.0",
         "2566916.0",
         "73.36",
         "912.0",
         "6659.0"
        ]
       ],
       "shape": {
        "columns": 15,
        "rows": 5
       }
      },
      "text/html": [
       "<div>\n",
       "<style scoped>\n",
       "    .dataframe tbody tr th:only-of-type {\n",
       "        vertical-align: middle;\n",
       "    }\n",
       "\n",
       "    .dataframe tbody tr th {\n",
       "        vertical-align: top;\n",
       "    }\n",
       "\n",
       "    .dataframe thead th {\n",
       "        text-align: right;\n",
       "    }\n",
       "</style>\n",
       "<table border=\"1\" class=\"dataframe\">\n",
       "  <thead>\n",
       "    <tr style=\"text-align: right;\">\n",
       "      <th></th>\n",
       "      <th>Year</th>\n",
       "      <th>Month_Num</th>\n",
       "      <th>New_cases</th>\n",
       "      <th>Total_cases</th>\n",
       "      <th>RAINFALL</th>\n",
       "      <th>TMAX</th>\n",
       "      <th>TMIN</th>\n",
       "      <th>TMEAN</th>\n",
       "      <th>RH</th>\n",
       "      <th>Population_Density</th>\n",
       "      <th>Total_Population</th>\n",
       "      <th>Urban_Population</th>\n",
       "      <th>Urbanization_Rate</th>\n",
       "      <th>Mosquito_Population</th>\n",
       "      <th>Total_Mosquito_Population</th>\n",
       "    </tr>\n",
       "  </thead>\n",
       "  <tbody>\n",
       "    <tr>\n",
       "      <th>108</th>\n",
       "      <td>2023</td>\n",
       "      <td>1</td>\n",
       "      <td>490.0</td>\n",
       "      <td>69769.0</td>\n",
       "      <td>72.6</td>\n",
       "      <td>29.7</td>\n",
       "      <td>24.6</td>\n",
       "      <td>27.2</td>\n",
       "      <td>77</td>\n",
       "      <td>3158.0</td>\n",
       "      <td>4507288.0</td>\n",
       "      <td>2566916.0</td>\n",
       "      <td>73.36</td>\n",
       "      <td>2351.0</td>\n",
       "      <td>2351.0</td>\n",
       "    </tr>\n",
       "    <tr>\n",
       "      <th>109</th>\n",
       "      <td>2023</td>\n",
       "      <td>2</td>\n",
       "      <td>265.0</td>\n",
       "      <td>70034.0</td>\n",
       "      <td>12.4</td>\n",
       "      <td>31.0</td>\n",
       "      <td>24.9</td>\n",
       "      <td>27.9</td>\n",
       "      <td>73</td>\n",
       "      <td>3158.0</td>\n",
       "      <td>4507288.0</td>\n",
       "      <td>2566916.0</td>\n",
       "      <td>73.36</td>\n",
       "      <td>1271.0</td>\n",
       "      <td>3622.0</td>\n",
       "    </tr>\n",
       "    <tr>\n",
       "      <th>110</th>\n",
       "      <td>2023</td>\n",
       "      <td>3</td>\n",
       "      <td>222.0</td>\n",
       "      <td>70256.0</td>\n",
       "      <td>0.4</td>\n",
       "      <td>32.3</td>\n",
       "      <td>25.1</td>\n",
       "      <td>28.7</td>\n",
       "      <td>68</td>\n",
       "      <td>3158.0</td>\n",
       "      <td>4507288.0</td>\n",
       "      <td>2566916.0</td>\n",
       "      <td>73.36</td>\n",
       "      <td>1065.0</td>\n",
       "      <td>4687.0</td>\n",
       "    </tr>\n",
       "    <tr>\n",
       "      <th>111</th>\n",
       "      <td>2023</td>\n",
       "      <td>4</td>\n",
       "      <td>221.0</td>\n",
       "      <td>70477.0</td>\n",
       "      <td>68.7</td>\n",
       "      <td>33.5</td>\n",
       "      <td>26.7</td>\n",
       "      <td>30.1</td>\n",
       "      <td>69</td>\n",
       "      <td>3158.0</td>\n",
       "      <td>4507288.0</td>\n",
       "      <td>2566916.0</td>\n",
       "      <td>73.36</td>\n",
       "      <td>1060.0</td>\n",
       "      <td>5747.0</td>\n",
       "    </tr>\n",
       "    <tr>\n",
       "      <th>112</th>\n",
       "      <td>2023</td>\n",
       "      <td>5</td>\n",
       "      <td>190.0</td>\n",
       "      <td>70667.0</td>\n",
       "      <td>134.6</td>\n",
       "      <td>34.4</td>\n",
       "      <td>27.7</td>\n",
       "      <td>31.0</td>\n",
       "      <td>72</td>\n",
       "      <td>3158.0</td>\n",
       "      <td>4507288.0</td>\n",
       "      <td>2566916.0</td>\n",
       "      <td>73.36</td>\n",
       "      <td>912.0</td>\n",
       "      <td>6659.0</td>\n",
       "    </tr>\n",
       "  </tbody>\n",
       "</table>\n",
       "</div>"
      ],
      "text/plain": [
       "     Year  Month_Num  New_cases  Total_cases  RAINFALL  TMAX  TMIN  TMEAN  RH  \\\n",
       "108  2023          1      490.0      69769.0      72.6  29.7  24.6   27.2  77   \n",
       "109  2023          2      265.0      70034.0      12.4  31.0  24.9   27.9  73   \n",
       "110  2023          3      222.0      70256.0       0.4  32.3  25.1   28.7  68   \n",
       "111  2023          4      221.0      70477.0      68.7  33.5  26.7   30.1  69   \n",
       "112  2023          5      190.0      70667.0     134.6  34.4  27.7   31.0  72   \n",
       "\n",
       "     Population_Density  Total_Population  Urban_Population  \\\n",
       "108              3158.0         4507288.0         2566916.0   \n",
       "109              3158.0         4507288.0         2566916.0   \n",
       "110              3158.0         4507288.0         2566916.0   \n",
       "111              3158.0         4507288.0         2566916.0   \n",
       "112              3158.0         4507288.0         2566916.0   \n",
       "\n",
       "     Urbanization_Rate  Mosquito_Population  Total_Mosquito_Population  \n",
       "108              73.36               2351.0                     2351.0  \n",
       "109              73.36               1271.0                     3622.0  \n",
       "110              73.36               1065.0                     4687.0  \n",
       "111              73.36               1060.0                     5747.0  \n",
       "112              73.36                912.0                     6659.0  "
      ]
     },
     "execution_count": 15,
     "metadata": {},
     "output_type": "execute_result"
    }
   ],
   "source": [
    "cases_x_larvae.head()"
   ]
  },
  {
   "cell_type": "code",
   "execution_count": 16,
   "id": "3fdfc1f3",
   "metadata": {},
   "outputs": [],
   "source": [
    "cases_x_larvae.to_csv('2023_cases_x_larvae.csv', mode='w', index=False)"
   ]
  }
 ],
 "metadata": {
  "kernelspec": {
   "display_name": "Python 3",
   "language": "python",
   "name": "python3"
  },
  "language_info": {
   "codemirror_mode": {
    "name": "ipython",
    "version": 3
   },
   "file_extension": ".py",
   "mimetype": "text/x-python",
   "name": "python",
   "nbconvert_exporter": "python",
   "pygments_lexer": "ipython3",
   "version": "3.11.9"
  }
 },
 "nbformat": 4,
 "nbformat_minor": 5
}
