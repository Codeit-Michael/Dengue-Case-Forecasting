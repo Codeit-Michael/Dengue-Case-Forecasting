{
 "cells": [
  {
   "cell_type": "code",
   "execution_count": 2,
   "id": "3f34bcd7",
   "metadata": {},
   "outputs": [],
   "source": [
    "import numpy as np\n",
    "import pandas as pd\n",
    "from scipy.optimize import curve_fit\n",
    "import matplotlib.pyplot as plt"
   ]
  },
  {
   "cell_type": "code",
   "execution_count": 3,
   "id": "33bb5f46",
   "metadata": {},
   "outputs": [],
   "source": [
    "dengue_cases = pd.read_csv('cleaned_dengue_data.csv')\n",
    "larvae_recs = pd.read_csv('larvae-recs.csv')"
   ]
  },
  {
   "cell_type": "code",
   "execution_count": 4,
   "id": "4dfe36f5",
   "metadata": {},
   "outputs": [
    {
     "name": "stdout",
     "output_type": "stream",
     "text": [
      "Index([14], dtype='int64') Index([27], dtype='int64')\n"
     ]
    }
   ],
   "source": [
    "print(dengue_cases.query('Month_Num == 3 & Year == 2015').index, dengue_cases.query('Month_Num == 4 & Year == 2016').index)"
   ]
  },
  {
   "cell_type": "code",
   "execution_count": 5,
   "id": "5d011c9e",
   "metadata": {},
   "outputs": [],
   "source": [
    "cases_x_larvae = dengue_cases.iloc[14:28].copy()"
   ]
  },
  {
   "cell_type": "code",
   "execution_count": 6,
   "id": "2755baea",
   "metadata": {},
   "outputs": [],
   "source": [
    "total = cases_x_larvae['New_cases'].sum()"
   ]
  },
  {
   "cell_type": "code",
   "execution_count": 7,
   "id": "c876098e",
   "metadata": {},
   "outputs": [],
   "source": [
    "case_percent = cases_x_larvae['New_cases'] / total"
   ]
  },
  {
   "cell_type": "code",
   "execution_count": 8,
   "id": "ddf2948b",
   "metadata": {},
   "outputs": [
    {
     "name": "stdout",
     "output_type": "stream",
     "text": [
      "14    0.034937\n",
      "15    0.034937\n",
      "16    0.009075\n",
      "17    0.018287\n",
      "18    0.047629\n",
      "19    0.094234\n",
      "20    0.172364\n",
      "21    0.265370\n",
      "22    0.163153\n",
      "23    0.050154\n",
      "24    0.046946\n",
      "25    0.031389\n",
      "26    0.019379\n",
      "27    0.012146\n",
      "Name: New_cases, dtype: float64\n"
     ]
    }
   ],
   "source": [
    "print(case_percent)"
   ]
  },
  {
   "cell_type": "code",
   "execution_count": 9,
   "id": "bf640e8d",
   "metadata": {},
   "outputs": [],
   "source": [
    "larvae_recs_sum = larvae_recs['No. of Larvae Collected'].sum()"
   ]
  },
  {
   "cell_type": "code",
   "execution_count": 10,
   "id": "2a6ae75d",
   "metadata": {},
   "outputs": [],
   "source": [
    "cases_x_larvae['case_percent'] = case_percent"
   ]
  },
  {
   "cell_type": "code",
   "execution_count": 11,
   "id": "2b9ae2b7",
   "metadata": {},
   "outputs": [],
   "source": [
    "cases_x_larvae['Dengue_Population'] = cases_x_larvae['case_percent'] * larvae_recs_sum"
   ]
  },
  {
   "cell_type": "code",
   "execution_count": 12,
   "id": "f0e29282",
   "metadata": {},
   "outputs": [],
   "source": [
    "cases_x_larvae.drop('case_percent', axis=1, inplace=True)"
   ]
  },
  {
   "cell_type": "code",
   "execution_count": 13,
   "id": "586efed5",
   "metadata": {},
   "outputs": [
    {
     "data": {
      "application/vnd.microsoft.datawrangler.viewer.v0+json": {
       "columns": [
        {
         "name": "index",
         "rawType": "int64",
         "type": "integer"
        },
        {
         "name": "Year",
         "rawType": "int64",
         "type": "integer"
        },
        {
         "name": "Month_Num",
         "rawType": "int64",
         "type": "integer"
        },
        {
         "name": "New_cases",
         "rawType": "float64",
         "type": "float"
        },
        {
         "name": "Total_cases",
         "rawType": "float64",
         "type": "float"
        },
        {
         "name": "RAINFALL",
         "rawType": "float64",
         "type": "float"
        },
        {
         "name": "TMAX",
         "rawType": "float64",
         "type": "float"
        },
        {
         "name": "TMIN",
         "rawType": "float64",
         "type": "float"
        },
        {
         "name": "TMEAN",
         "rawType": "float64",
         "type": "float"
        },
        {
         "name": "RH",
         "rawType": "int64",
         "type": "integer"
        },
        {
         "name": "Population_Density",
         "rawType": "float64",
         "type": "float"
        },
        {
         "name": "Total_Population",
         "rawType": "float64",
         "type": "float"
        },
        {
         "name": "Urban_Population",
         "rawType": "float64",
         "type": "float"
        },
        {
         "name": "Urbanization_Rate",
         "rawType": "float64",
         "type": "float"
        },
        {
         "name": "Dengue_Population",
         "rawType": "float64",
         "type": "float"
        }
       ],
       "ref": "2fe14f08-048e-4715-8ea7-d75b9d7a686e",
       "rows": [
        [
         "14",
         "2015",
         "3",
         "512.0",
         "4215.0",
         "7.8",
         "32.0",
         "25.1",
         "28.6",
         "75",
         "2578.0",
         "3678301.0",
         "3649060.0",
         "72.02",
         "785.3112248379393"
        ],
        [
         "15",
         "2015",
         "4",
         "512.0",
         "4727.0",
         "0.0",
         "34.3",
         "26.8",
         "30.6",
         "73",
         "2578.0",
         "3678301.0",
         "3649060.0",
         "72.02",
         "785.3112248379393"
        ],
        [
         "16",
         "2015",
         "5",
         "133.0",
         "4860.0",
         "10.2",
         "35.3",
         "28.0",
         "31.6",
         "74",
         "2578.0",
         "3678301.0",
         "3649060.0",
         "72.02",
         "203.9968611395428"
        ],
        [
         "17",
         "2015",
         "6",
         "268.0",
         "5128.0",
         "166.8",
         "34.6",
         "27.7",
         "31.2",
         "77",
         "2578.0",
         "3678301.0",
         "3649060.0",
         "72.02",
         "411.06134425110884"
        ],
        [
         "18",
         "2015",
         "7",
         "698.0",
         "5826.0",
         "352.8",
         "32.2",
         "26.7",
         "29.5",
         "82",
         "2578.0",
         "3678301.0",
         "3649060.0",
         "72.02",
         "1070.6000682360968"
        ]
       ],
       "shape": {
        "columns": 14,
        "rows": 5
       }
      },
      "text/html": [
       "<div>\n",
       "<style scoped>\n",
       "    .dataframe tbody tr th:only-of-type {\n",
       "        vertical-align: middle;\n",
       "    }\n",
       "\n",
       "    .dataframe tbody tr th {\n",
       "        vertical-align: top;\n",
       "    }\n",
       "\n",
       "    .dataframe thead th {\n",
       "        text-align: right;\n",
       "    }\n",
       "</style>\n",
       "<table border=\"1\" class=\"dataframe\">\n",
       "  <thead>\n",
       "    <tr style=\"text-align: right;\">\n",
       "      <th></th>\n",
       "      <th>Year</th>\n",
       "      <th>Month_Num</th>\n",
       "      <th>New_cases</th>\n",
       "      <th>Total_cases</th>\n",
       "      <th>RAINFALL</th>\n",
       "      <th>TMAX</th>\n",
       "      <th>TMIN</th>\n",
       "      <th>TMEAN</th>\n",
       "      <th>RH</th>\n",
       "      <th>Population_Density</th>\n",
       "      <th>Total_Population</th>\n",
       "      <th>Urban_Population</th>\n",
       "      <th>Urbanization_Rate</th>\n",
       "      <th>Dengue_Population</th>\n",
       "    </tr>\n",
       "  </thead>\n",
       "  <tbody>\n",
       "    <tr>\n",
       "      <th>14</th>\n",
       "      <td>2015</td>\n",
       "      <td>3</td>\n",
       "      <td>512.0</td>\n",
       "      <td>4215.0</td>\n",
       "      <td>7.8</td>\n",
       "      <td>32.0</td>\n",
       "      <td>25.1</td>\n",
       "      <td>28.6</td>\n",
       "      <td>75</td>\n",
       "      <td>2578.0</td>\n",
       "      <td>3678301.0</td>\n",
       "      <td>3649060.0</td>\n",
       "      <td>72.02</td>\n",
       "      <td>785.311225</td>\n",
       "    </tr>\n",
       "    <tr>\n",
       "      <th>15</th>\n",
       "      <td>2015</td>\n",
       "      <td>4</td>\n",
       "      <td>512.0</td>\n",
       "      <td>4727.0</td>\n",
       "      <td>0.0</td>\n",
       "      <td>34.3</td>\n",
       "      <td>26.8</td>\n",
       "      <td>30.6</td>\n",
       "      <td>73</td>\n",
       "      <td>2578.0</td>\n",
       "      <td>3678301.0</td>\n",
       "      <td>3649060.0</td>\n",
       "      <td>72.02</td>\n",
       "      <td>785.311225</td>\n",
       "    </tr>\n",
       "    <tr>\n",
       "      <th>16</th>\n",
       "      <td>2015</td>\n",
       "      <td>5</td>\n",
       "      <td>133.0</td>\n",
       "      <td>4860.0</td>\n",
       "      <td>10.2</td>\n",
       "      <td>35.3</td>\n",
       "      <td>28.0</td>\n",
       "      <td>31.6</td>\n",
       "      <td>74</td>\n",
       "      <td>2578.0</td>\n",
       "      <td>3678301.0</td>\n",
       "      <td>3649060.0</td>\n",
       "      <td>72.02</td>\n",
       "      <td>203.996861</td>\n",
       "    </tr>\n",
       "    <tr>\n",
       "      <th>17</th>\n",
       "      <td>2015</td>\n",
       "      <td>6</td>\n",
       "      <td>268.0</td>\n",
       "      <td>5128.0</td>\n",
       "      <td>166.8</td>\n",
       "      <td>34.6</td>\n",
       "      <td>27.7</td>\n",
       "      <td>31.2</td>\n",
       "      <td>77</td>\n",
       "      <td>2578.0</td>\n",
       "      <td>3678301.0</td>\n",
       "      <td>3649060.0</td>\n",
       "      <td>72.02</td>\n",
       "      <td>411.061344</td>\n",
       "    </tr>\n",
       "    <tr>\n",
       "      <th>18</th>\n",
       "      <td>2015</td>\n",
       "      <td>7</td>\n",
       "      <td>698.0</td>\n",
       "      <td>5826.0</td>\n",
       "      <td>352.8</td>\n",
       "      <td>32.2</td>\n",
       "      <td>26.7</td>\n",
       "      <td>29.5</td>\n",
       "      <td>82</td>\n",
       "      <td>2578.0</td>\n",
       "      <td>3678301.0</td>\n",
       "      <td>3649060.0</td>\n",
       "      <td>72.02</td>\n",
       "      <td>1070.600068</td>\n",
       "    </tr>\n",
       "  </tbody>\n",
       "</table>\n",
       "</div>"
      ],
      "text/plain": [
       "    Year  Month_Num  New_cases  Total_cases  RAINFALL  TMAX  TMIN  TMEAN  RH  \\\n",
       "14  2015          3      512.0       4215.0       7.8  32.0  25.1   28.6  75   \n",
       "15  2015          4      512.0       4727.0       0.0  34.3  26.8   30.6  73   \n",
       "16  2015          5      133.0       4860.0      10.2  35.3  28.0   31.6  74   \n",
       "17  2015          6      268.0       5128.0     166.8  34.6  27.7   31.2  77   \n",
       "18  2015          7      698.0       5826.0     352.8  32.2  26.7   29.5  82   \n",
       "\n",
       "    Population_Density  Total_Population  Urban_Population  Urbanization_Rate  \\\n",
       "14              2578.0         3678301.0         3649060.0              72.02   \n",
       "15              2578.0         3678301.0         3649060.0              72.02   \n",
       "16              2578.0         3678301.0         3649060.0              72.02   \n",
       "17              2578.0         3678301.0         3649060.0              72.02   \n",
       "18              2578.0         3678301.0         3649060.0              72.02   \n",
       "\n",
       "    Dengue_Population  \n",
       "14         785.311225  \n",
       "15         785.311225  \n",
       "16         203.996861  \n",
       "17         411.061344  \n",
       "18        1070.600068  "
      ]
     },
     "execution_count": 13,
     "metadata": {},
     "output_type": "execute_result"
    }
   ],
   "source": [
    "cases_x_larvae.head()"
   ]
  },
  {
   "cell_type": "code",
   "execution_count": null,
   "id": "3fdfc1f3",
   "metadata": {},
   "outputs": [],
   "source": [
    "# cases_x_larvae.to_csv('apr205-may2016.csv', mode='w', index=False)"
   ]
  },
  {
   "cell_type": "code",
   "execution_count": 16,
   "id": "bbd4ebcb",
   "metadata": {},
   "outputs": [],
   "source": [
    "latest_data = dengue_cases.query('Year == 2023').copy()"
   ]
  }
 ],
 "metadata": {
  "kernelspec": {
   "display_name": "Python 3",
   "language": "python",
   "name": "python3"
  },
  "language_info": {
   "codemirror_mode": {
    "name": "ipython",
    "version": 3
   },
   "file_extension": ".py",
   "mimetype": "text/x-python",
   "name": "python",
   "nbconvert_exporter": "python",
   "pygments_lexer": "ipython3",
   "version": "3.11.9"
  }
 },
 "nbformat": 4,
 "nbformat_minor": 5
}
