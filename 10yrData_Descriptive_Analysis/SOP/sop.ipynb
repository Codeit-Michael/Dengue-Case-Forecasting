{
 "cells": [
  {
   "cell_type": "markdown",
   "id": "f5444146",
   "metadata": {},
   "source": [
    "# Optimized Dengue Case Forecasting in Cavite Using a Meteorological and Environmental-Urbanization Integrated Mathematical Model"
   ]
  },
  {
   "cell_type": "markdown",
   "id": "7678d5a4",
   "metadata": {},
   "source": [
    "### SOP 1: Effects of meteorological factors\n",
    "- Program outputs needed:\n",
    "- Simulated dengue cases (forecasts) from SEIR-SEI model with meteorological factors included.\n",
    "- Simulated dengue cases (forecasts) from model without meteorological factors.\n",
    "\n",
    "\n",
    "- **FOR STATS:**\n",
    "\t- Forecast accuracy metrics (RMSE, R²) for both runs.\n",
    "- **Answers** = Compare RMSE/R² of the two models. If accuracy improves when meteorological factors are included, then those factors have an effect."
   ]
  },
  {
   "cell_type": "markdown",
   "id": "3032d910",
   "metadata": {},
   "source": [
    "<br/>"
   ]
  },
  {
   "cell_type": "markdown",
   "id": "dfcbc016",
   "metadata": {},
   "source": [
    "### SOP 2. Effects of environmental & urbanization factors (urbanization rate, population density) on forecasting performance\n",
    "Program outputs needed:\n",
    "- Forecast results from model with population density & urbanization rate included.\n",
    "- Forecast results from models without them.\n",
    "- **FOR STATS:**\n",
    "\t- Forecast accuracy metrics (RMSE, R²) for comparison.\n",
    "- **Answers** = If including these variables lowers RMSE or raises R², then they improved the model’s performance."
   ]
  },
  {
   "cell_type": "markdown",
   "id": "d296322f",
   "metadata": {},
   "source": [
    "<br/>"
   ]
  },
  {
   "cell_type": "markdown",
   "id": "4a2e27b2",
   "metadata": {},
   "source": [
    "### SOP 3. Accuracy of the SEIR-SEI model in forecasting dengue cases based on historical data\n",
    "Program outputs needed:\n",
    "- Actual historical dengue cases (from DOH).\n",
    "- Direct comparison chart (forecast vs. actual). - (100 days of 2024 vs 2024 first quarter)\n",
    "- **GRAPH:**\n",
    "\t- Residuals/error plots (difference between forecast & actual).\n",
    "- For stats Validation metrics: RMSE, R², MAE (Mean Absolute Error optional).\n",
    "- **Answers** = Report the error metrics. If R² is high and RMSE is low, the model is accurate."
   ]
  },
  {
   "cell_type": "markdown",
   "id": "3370e4dd",
   "metadata": {},
   "source": [
    "<br/>"
   ]
  },
  {
   "cell_type": "markdown",
   "id": "bc497d75",
   "metadata": {},
   "source": [
    "### SOP 4. Significant relationship between meteorological, environmental, and urbanization factors and the SEIR-SEI model’s forecasting performance\n",
    "Program outputs needed:\n",
    "- Correlation analysis (Pearson r) between:\n",
    "    - Temp = Dengue cases/forecasts\n",
    "    - Rainfall = Dengue cases/forecasts\n",
    "    - Humidity = Dengue cases/forecasts\n",
    "    - Population density = Dengue cases/forecasts\n",
    "    - Urbanization rate = Dengue cases/forecasts\n",
    "- p-values for statistical significance. (STATS)\n",
    "- Scatter plots with trendlines. (GRAPH)\n",
    "- **Answers** = Show correlation coefficients. Strong significant r-values mean a strong relationship."
   ]
  }
 ],
 "metadata": {
  "language_info": {
   "name": "python"
  }
 },
 "nbformat": 4,
 "nbformat_minor": 5
}
